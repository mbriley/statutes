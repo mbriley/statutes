{
 "cells": [
  {
   "cell_type": "code",
   "execution_count": 60,
   "metadata": {
    "collapsed": true
   },
   "outputs": [],
   "source": [
    "import pandas            as pd\n",
    "import numpy             as np\n",
    "import matplotlib.pyplot as plt"
   ]
  },
  {
   "cell_type": "code",
   "execution_count": 61,
   "metadata": {
    "collapsed": false
   },
   "outputs": [
    {
     "name": "stdout",
     "output_type": "stream",
     "text": [
      "WARNING *** file size (1941440) not 512 + multiple of sector size (512)\n"
     ]
    }
   ],
   "source": [
    "raw = pd.read_excel('http://www.criminaljustice.ny.gov/crimnet/ccman/codedlawmanual.xls', skiprows = 5, header = None)\n"
   ]
  },
  {
   "cell_type": "code",
   "execution_count": 62,
   "metadata": {
    "collapsed": false
   },
   "outputs": [],
   "source": [
    "# this drops all of the columns that have only NA's\n",
    "\n",
    "raw2 = raw.dropna(axis = 1, how = 'all')\n",
    "\n",
    "# replaces NaN's with blank strings\n",
    "raw2 = raw2.replace(np.nan,'', regex=True)\n"
   ]
  },
  {
   "cell_type": "code",
   "execution_count": 63,
   "metadata": {
    "collapsed": false
   },
   "outputs": [],
   "source": [
    "# assign new names\n",
    "new_names = []\n",
    "\n",
    "for c in range(0, len(raw2.columns)):\n",
    "    new_names.append(raw2.iloc[0,c] + str(raw2.iloc[1,c]))\n",
    "    \n",
    "new_names[1] = new_names[2]\n",
    "new_names[2] = new_names[3]\n",
    "new_names[6] = new_names[5]\n",
    "new_names[7] = new_names[8]\n",
    "new_names[14] = new_names[15]\n",
    "new_names[16] = new_names[17]\n",
    "new_names[19] = new_names[18]\n",
    "new_names[22] = new_names[21]\n",
    "\n",
    "raw2.columns = new_names"
   ]
  },
  {
   "cell_type": "code",
   "execution_count": 64,
   "metadata": {
    "collapsed": false
   },
   "outputs": [
    {
     "data": {
      "text/plain": [
       "Index([            u'Title',           u'Section',               u'Sub',\n",
       "                     u'Sub',                  u'',             u'Class',\n",
       "                   u'Class',               u'Cat',               u'Cat',\n",
       "                        u'',               u'Deg',              u'NCIC',\n",
       "                        u'',         u'Printable',         u'UCR  Code',\n",
       "               u'UCR  Code',          u'IBR Code',          u'IBR Code',\n",
       "          u'Effective Date',    u'Effective Date', u'Short Description',\n",
       "                        u'',                  u''],\n",
       "      dtype='object')"
      ]
     },
     "execution_count": 64,
     "metadata": {},
     "output_type": "execute_result"
    }
   ],
   "source": [
    "raw2.columns"
   ]
  },
  {
   "cell_type": "code",
   "execution_count": 65,
   "metadata": {
    "collapsed": true
   },
   "outputs": [],
   "source": [
    "# drop the first two rows\n",
    "raw2 = raw2.drop(raw2.index[[0,1]])"
   ]
  },
  {
   "cell_type": "code",
   "execution_count": 66,
   "metadata": {
    "collapsed": false
   },
   "outputs": [],
   "source": [
    "blanks = []\n",
    "\n",
    "for r in range(0, raw2.shape[0]):\n",
    "    if (raw2.iloc[r, 0] == ''):\n",
    "        blanks.append(r)\n",
    "\n",
    "blanks\n",
    "\n",
    "raw2 = raw2.drop(raw2.index[[blanks]])"
   ]
  },
  {
   "cell_type": "code",
   "execution_count": 102,
   "metadata": {
    "collapsed": false
   },
   "outputs": [],
   "source": [
    "# rewrite blank values to be NaN's\n",
    "raw2.replace('', np.nan, inplace=True)\n",
    "\n",
    "# drop empty columns\n",
    "raw2 = raw2.dropna(axis = 1, how = 'all')\n",
    "\n",
    "# replaces NaN's with blank strings\n",
    "raw2 = raw2.replace(np.nan,'', regex=True)\n",
    "\n",
    "# drop rows where you're missing section\n",
    "raw2 = raw2.drop(raw2[raw2.Section == ''].index)"
   ]
  },
  {
   "cell_type": "markdown",
   "metadata": {},
   "source": []
  },
  {
   "cell_type": "raw",
   "metadata": {
    "collapsed": false
   },
   "source": [
    "# final name tidying\n",
    "new_names = list(raw2.columns)\n",
    "\n",
    "new_names[5] = 'Deg'\n",
    "new_names[6] = 'NCIC'\n",
    "new_names[9] = 'IBR_code'\n",
    "new_names[11] = 'Short_Description'\n",
    "new_names[12] = 'Full_Description'\n",
    "\n",
    "raw2.columns = new_names\n",
    "\n"
   ]
  },
  {
   "cell_type": "code",
   "execution_count": 110,
   "metadata": {
    "collapsed": false
   },
   "outputs": [],
   "source": [
    "# make the Degree field an int (and then make it a string)\n",
    "raw2.Deg = raw2.Deg.astype(int).astype(str)"
   ]
  },
  {
   "cell_type": "code",
   "execution_count": 123,
   "metadata": {
    "collapsed": false
   },
   "outputs": [],
   "source": [
    "raw2['final_code'] = pd.Series(raw2.Title + raw2.Section + raw2.Sub + raw2.Class + raw2.Cat + raw2.Deg + raw2.IBR_code, index = raw2.index)\n"
   ]
  },
  {
   "cell_type": "code",
   "execution_count": 125,
   "metadata": {
    "collapsed": true
   },
   "outputs": [],
   "source": [
    "# save it to CSV\n",
    "raw2.to_csv('nys_statutes.csv')"
   ]
  }
 ],
 "metadata": {
  "kernelspec": {
   "display_name": "Python 2",
   "language": "python",
   "name": "python2"
  },
  "language_info": {
   "codemirror_mode": {
    "name": "ipython",
    "version": 2
   },
   "file_extension": ".py",
   "mimetype": "text/x-python",
   "name": "python",
   "nbconvert_exporter": "python",
   "pygments_lexer": "ipython2",
   "version": "2.7.10"
  }
 },
 "nbformat": 4,
 "nbformat_minor": 0
}
